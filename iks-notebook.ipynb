{
 "cells": [
  {
   "cell_type": "code",
   "execution_count": 10,
   "id": "75c92e42170ecf4e",
   "metadata": {
    "collapsed": false,
    "ExecuteTime": {
     "end_time": "2023-12-13T13:55:00.607719Z",
     "start_time": "2023-12-13T13:54:58.643708Z"
    }
   },
   "outputs": [
    {
     "data": {
      "text/plain": "'The distance between South Korea and Mexico is approximately 11,000 kilometers (6,835 miles).'"
     },
     "execution_count": 10,
     "metadata": {},
     "output_type": "execute_result"
    }
   ],
   "source": [
    "from langchain.chat_models import ChatOpenAI\n",
    "from langchain.prompts import PromptTemplate, ChatPromptTemplate\n",
    "from dotenv import load_dotenv\n",
    "load_dotenv()\n",
    "\n",
    "chat = ChatOpenAI(temperature=0.3)\n",
    "\n",
    "template = PromptTemplate.from_template(\n",
    "    \"What is the distance between {country_a} and {country_b}.\",\n",
    ")\n",
    "prompt = template.format(country_a=\"South Korea\", country_b=\"Mexico\")\n",
    "\n",
    "chat.predict(prompt)"
   ]
  },
  {
   "cell_type": "code",
   "execution_count": 13,
   "id": "db2410f464c2a99",
   "metadata": {
    "collapsed": false,
    "ExecuteTime": {
     "end_time": "2023-12-13T13:58:52.004730Z",
     "start_time": "2023-12-13T13:58:36.223332Z"
    }
   },
   "outputs": [
    {
     "data": {
      "text/plain": "AIMessage(content='컴퓨터 네트워크는 컴퓨터와 다른 장치들이 서로 연결되어 정보를 주고받을 수 있는 시스템입니다. 이러한 네트워크는 데이터를 전송하고 공유하기 위해 사용됩니다. 네트워크는 일반적으로 유선 또는 무선으로 구성될 수 있으며, 이를 통해 컴퓨터, 프린터, 서버 등 다양한 장치들이 상호작용할 수 있습니다. 네트워크는 인터넷에 연결되어 웹 브라우징, 이메일, 파일 공유 등 다양한 온라인 서비스를 제공합니다.')"
     },
     "execution_count": 13,
     "metadata": {},
     "output_type": "execute_result"
    }
   ],
   "source": [
    "\n",
    "template = ChatPromptTemplate.from_messages(\n",
    "    [\n",
    "        (\"system\", \"You are a network expert. And you only reply in {language}.\"),\n",
    "        (\"ai\", \"안녕! 내 이름은 {ai_name}\"),\n",
    "        (\"human\", \"컴퓨터 {subject1} 가 뭔지 설명 부탁해\")\n",
    "    ]\n",
    ")\n",
    "\n",
    "prompt = template.format_messages(\n",
    "    language=\"Korean\",\n",
    "    ai_name=\"iks\",\n",
    "    subject1=\"Network\"\n",
    ")\n",
    "\n",
    "chat.predict_messages(prompt)"
   ]
  },
  {
   "cell_type": "code",
   "execution_count": null,
   "outputs": [],
   "source": [],
   "metadata": {
    "collapsed": false
   },
   "id": "4c95fd893f3862cf"
  }
 ],
 "metadata": {
  "kernelspec": {
   "display_name": "Python 3",
   "language": "python",
   "name": "python3"
  },
  "language_info": {
   "codemirror_mode": {
    "name": "ipython",
    "version": 3
   },
   "file_extension": ".py",
   "mimetype": "text/x-python",
   "name": "python",
   "nbconvert_exporter": "python",
   "pygments_lexer": "ipython3",
   "version": "3.11.6"
  }
 },
 "nbformat": 4,
 "nbformat_minor": 5
}
